{
  "nbformat": 4,
  "nbformat_minor": 0,
  "metadata": {
    "colab": {
      "name": "SE32 Zidane Khan FDS (Quick Sort) Practical",
      "provenance": [],
      "collapsed_sections": [],
      "toc_visible": true,
      "include_colab_link": true
    },
    "kernelspec": {
      "display_name": "Python 3",
      "name": "python3"
    }
  },
  "cells": [
    {
      "cell_type": "markdown",
      "metadata": {
        "id": "view-in-github",
        "colab_type": "text"
      },
      "source": [
        "<a href=\"https://colab.research.google.com/github/ZIDANE2003/FDS-PRACTICAL-10-Group-B-/blob/main/SE32_Zidane_Khan_FDS_(Quick_Sort)_Practical.ipynb\" target=\"_parent\"><img src=\"https://colab.research.google.com/assets/colab-badge.svg\" alt=\"Open In Colab\"/></a>"
      ]
    },
    {
      "cell_type": "code",
      "metadata": {
        "id": "-6sjCX653Zhp",
        "colab": {
          "base_uri": "https://localhost:8080/"
        },
        "outputId": "05cf65f1-7fdf-4c49-bb7b-c51471909cea"
      },
      "source": [
        "\n",
        "stud=[]\n",
        "n=int(input(\"Enter no of students in class:\")) \n",
        "for i in range(n):\n",
        "  num=float(input(\"Enter percentage of students:\"))\n",
        "  stud.append(num)\n",
        "print(\"List of percentage of Students:\",stud,end=\" \")\n",
        "low=n-1\n",
        "high=0\n",
        "def Quick(stud,low,high):\n",
        "  if(low<high):\n",
        "    m=Partition(stud,low,high)\n",
        "    Quick(stud,low,m-1)\n",
        "    Quick(stud,m+1,high)\n",
        "def Partition(stud,low,high):\n",
        "  pivot = stud[high]\n",
        "  i=low-1\n",
        "  for j in range(low,high):\n",
        "    if stud[j]<=pivot:\n",
        "      i=i+1\n",
        "      (stud[i],stud[j])=(stud[j],stud[i])\n",
        "  (stud[i+1],stud[high])=(stud[high],stud[i+1])\n",
        "  return i + 1\n",
        "\n",
        "Quick(stud,high,low)\n",
        "print(\"\\n Top Five Scores Are \") \n",
        "print(stud)"
      ],
      "execution_count": 12,
      "outputs": [
        {
          "output_type": "stream",
          "name": "stdout",
          "text": [
            "Enter no of students in class:5\n",
            "Enter percentage of students:71.2\n",
            "Enter percentage of students:82.2\n",
            "Enter percentage of students:82.3\n",
            "Enter percentage of students:55.5\n",
            "Enter percentage of students:90\n",
            "List of percentage of Students: [71.2, 82.2, 82.3, 55.5, 90.0] \n",
            " Top Five Scores Are \n",
            "[55.5, 71.2, 82.2, 82.3, 90.0]\n"
          ]
        }
      ]
    }
  ]
}